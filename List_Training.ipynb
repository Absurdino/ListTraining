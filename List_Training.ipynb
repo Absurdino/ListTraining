{
 "cells": [
  {
   "cell_type": "code",
   "execution_count": 5,
   "metadata": {},
   "outputs": [
    {
     "name": "stdout",
     "output_type": "stream",
     "text": [
      "[['Europe', 'Turkey'], ['Asia', 'Indonesia'], ['Latam', 'Argentina'], ['Latam', 'Chile']]\n"
     ]
    }
   ],
   "source": [
    "# Country list\n",
    "country_list = [[\"Europe\", \"Turkey\"], [\"Asia\", \"Indonesia\"], [\"Latam\", \"Argentina\"], [\"Latam\", \"Chile\"]]\n",
    "print(country_list)"
   ]
  },
  {
   "cell_type": "code",
   "execution_count": 6,
   "metadata": {},
   "outputs": [
    {
     "data": {
      "text/plain": [
       "[['Asia', 'Indonesia'],\n",
       " ['Europe', 'Turkey'],\n",
       " ['Latam', 'Argentina'],\n",
       " ['Latam', 'Chile']]"
      ]
     },
     "execution_count": 6,
     "metadata": {},
     "output_type": "execute_result"
    }
   ],
   "source": [
    "sorted(country_list)"
   ]
  },
  {
   "cell_type": "code",
   "execution_count": 15,
   "metadata": {},
   "outputs": [
    {
     "name": "stdout",
     "output_type": "stream",
     "text": [
      "Geographic ? Latam\n",
      "Latam\n",
      "<class 'str'>\n",
      "Country Name ? Colombia\n",
      "Colombia\n",
      "<class 'str'>\n"
     ]
    }
   ],
   "source": [
    "# Ask the user for the geographic region \n",
    "# convert the the input into a string \n",
    "geo = input(\"Geographic ? \")\n",
    "str(geo)\n",
    "print(geo)\n",
    "print(type(geo))\n",
    "\n",
    "# Ask the user for the country name \n",
    "# convert the the input into a string\n",
    "\n",
    "country = input(\"Country Name ? \")\n",
    "print(country)\n",
    "str(country)\n",
    "print(type(country))\n",
    "\n",
    "list_addition = [geo, country]\n",
    "# contry_list.append[]"
   ]
  },
  {
   "cell_type": "code",
   "execution_count": 16,
   "metadata": {},
   "outputs": [
    {
     "name": "stdout",
     "output_type": "stream",
     "text": [
      "['Latam', 'Colombia']\n"
     ]
    }
   ],
   "source": [
    "print(list_addition)"
   ]
  },
  {
   "cell_type": "code",
   "execution_count": 14,
   "metadata": {},
   "outputs": [
    {
     "name": "stdout",
     "output_type": "stream",
     "text": [
      "[['Europe', 'Turkey'], ['Asia', 'Indonesia'], ['Latam', 'Argentina'], ['Latam', 'Chile'], ['Latam', 'Colombia'], ['Latam', 'Colombia']]\n"
     ]
    }
   ],
   "source": [
    "if list_addition in country_list:\n",
    "    print(\"Country already included in the list\")\n",
    "\n",
    "country_list.append([geo, country])\n",
    "print(country_list)"
   ]
  }
 ],
 "metadata": {
  "kernelspec": {
   "display_name": "Python 3",
   "language": "python",
   "name": "python3"
  },
  "language_info": {
   "codemirror_mode": {
    "name": "ipython",
    "version": 3
   },
   "file_extension": ".py",
   "mimetype": "text/x-python",
   "name": "python",
   "nbconvert_exporter": "python",
   "pygments_lexer": "ipython3",
   "version": "3.7.1"
  }
 },
 "nbformat": 4,
 "nbformat_minor": 2
}
